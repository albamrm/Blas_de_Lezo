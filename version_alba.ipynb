{
 "cells": [
  {
   "cell_type": "code",
   "execution_count": 1,
   "metadata": {},
   "outputs": [],
   "source": [
    "# VARIABLES\n",
    "\n",
    "tablero_jugador = Tablero.crear_tablero\n",
    "tablero_maquina = Tablero.crear_tablero\n",
    "# Llamamos a la clase y a la funcion para crear el tablero\n",
    "\n",
    "barcos = ['barco_4', 'barco_3_1', 'barco_3_2', 'barco_2_1', 'barco_2_2', 'barco_2_3', 'barco_1_1', 'barco_1_2', 'barco_1_3', 'barco_1_4']\n",
    "\n",
    "jugador = crear_jugador(jugador)\n",
    "maquina = crear_jugador(maquina)\n",
    "# Usamos la función para crear jugador"
   ]
  },
  {
   "cell_type": "code",
   "execution_count": 2,
   "metadata": {},
   "outputs": [],
   "source": [
    "# FUNCIÓN \"CREAR TABLERO\"\n",
    "\n",
    "def crear_tablero(lado = 10):\n",
    "    tablero = np.full((lado,lado),\" \")\n",
    "    return tablero"
   ]
  },
  {
   "cell_type": "code",
   "execution_count": 4,
   "metadata": {},
   "outputs": [],
   "source": [
    "# FUNCIÓN \"CREAR USUARIO\"\n",
    "\n",
    "def crear_jugador(jugador):\n",
    "    if jugador == \"jugador\":\n",
    "        print(\"Bienvenido a Hundir la Flota\")\n",
    "        jugador = input(\"Introduzca su nombre, por favor:\")\n",
    "    else:\n",
    "        jugador == \"maquina\"\n",
    "    return jugador"
   ]
  },
  {
   "cell_type": "code",
   "execution_count": 3,
   "metadata": {},
   "outputs": [],
   "source": [
    "# FUNCIÓN \"COLOCAR BARCO\" PARA JUGADOR\n",
    "\n",
    "def colocar_barco(tablero):\n",
    "    for i in range(4): # Nos va a colocar 4 barcos, como dice el enunciado del ejercicio\n",
    "        print(f\"Coloca el barco {i + 1}:\")\n",
    "        x = int(input(\"Introduce la coordenada X para tu barco:\"))\n",
    "        y = int(input(\"Introduce la coordenada Y para tu barco:\"))\n",
    "        orientacion = input(\"Introduce la orientación para tu barco (Escribe -H- para orientación horizontal y -V- para orientación vertical):\").upper() # Se puede introducir tanto en mayúscula como minúscula\n",
    "        if orientacion == \"H\": # Verificación para la orientación horizontal\n",
    "            if y + 1 <= 9: # Nos verifica que hay suficiente espacio en la fila para poner el barco\n",
    "                for j in range(4): # Verifica la posiciones consecutivas para introducir el barco\n",
    "                    if tablero[x][y + j] == \"O\":\n",
    "                        print(\"Ya hay un barco en esta coordenada. Vuelve a intentarlo.\")\n",
    "                        return colocar_barco(tablero)\n",
    "                for j in range(4):\n",
    "                    tablero[x][y + j] = \"O\"\n",
    "            else:\n",
    "                print(\"El barco no cabe en estas corrdenadas. Vuelve a intentarlo.\")\n",
    "                return colocar_barco(tablero)\n",
    "        elif orientacion == \"V\": # Verificación para la orientación vertical\n",
    "            if y + 1 <= 9:\n",
    "                for j in range(4):\n",
    "                    if tablero[x][y + j] == \"O\":\n",
    "                        print(\"Ya hay un barco en esta coordenada. Vuelve a intentarlo.\")\n",
    "                        return colocar_barco(tablero)\n",
    "                for j in range(4):\n",
    "                    tablero[x][y + j] = \"O\"\n",
    "            else:\n",
    "                print(\"El barco no cabe en estas corrdenadas. Vuelve a intentarlo.\")\n",
    "                return colocar_barco(tablero)\n",
    "        else: # Si se introduce cualquier otra cosa que no sea \"H\" o \"V\" nos lanza esto\n",
    "            print(\"La orientacion introducida no es válida. Vuelve a intentarlo.\")\n",
    "            return colocar_barco(tablero)\n",
    "        \n",
    "# Este código pregunta al jugador en que coordenadas quiere colocar sus 4 barcos. Habría que darle una vuelta para el tema de las esloras de cada barco"
   ]
  },
  {
   "cell_type": "code",
   "execution_count": 4,
   "metadata": {},
   "outputs": [],
   "source": [
    "# FUNCIÓN \"GENERAR BARCO ALEATROIO\" PARA MÁQUINA\n",
    "\n",
    "def generar_barco(tablero, eslora = 4, num_intentos = 100):\n",
    "    num_max_filas = tablero.shape[0]\n",
    "    num_max_columnas = tablero.shape[1]\n",
    "    while True:\n",
    "        barco = []\n",
    "        pieza_original = (random.randint(0, num_max_filas - 1), random.randint(0, num_max_columnas - 1))\n",
    "        print(\"Pieza original:\", pieza_original)\n",
    "        barco.append(pieza_original)\n",
    "        orientacion = random.choice([\"N\",\"S\",\"O\",\"E\"])\n",
    "        print(\"Con orientacion\", orientacion)\n",
    "        fila = pieza_original[0]\n",
    "        columna = pieza_original[1]\n",
    "        for i in range(eslora - 1):\n",
    "            if orientacion == \"N\":\n",
    "                fila -= 1\n",
    "            elif orientacion  == \"S\":\n",
    "                fila += 1\n",
    "            elif orientacion == \"E\":\n",
    "                columna += 1\n",
    "            else:\n",
    "                columna -= 1\n",
    "            pieza = (fila, columna)\n",
    "            barco.append(pieza)\n",
    "        tablero_temp = generar_barco(tablero, barco)\n",
    "        if type(tablero_temp) == np.ndarray:\n",
    "            return tablero_temp\n",
    "        print(\"Tengo que intentar colocar otro barco\")\n",
    "\n",
    "# Este código genera un barco siempre teniendo en cuenta que entra en el tablero, y repite el proceso hasta generar uno que pueda colocar. Sacado del mini hundir la flota"
   ]
  },
  {
   "cell_type": "code",
   "execution_count": 5,
   "metadata": {},
   "outputs": [],
   "source": [
    "# FUNCIÓN \"DISPARAR\" PARA JUGADOR\n",
    "\n",
    "def disparar(tablero):\n",
    "    x = int(input(\"Introduce la coordenada X para disparar:\"))\n",
    "    y = int(input(\"Introduce la coordenada Y para disparar:\"))\n",
    "    if tablero[x][y] == \"O\":\n",
    "        tablero[x][y] = \"X\"\n",
    "        print(\"Tocado\")\n",
    "    elif tablero[x][y] == \"X\":\n",
    "        print(\"Ya disparaste a esta coordenada anteriormente\")\n",
    "    else:\n",
    "        tablero[x][y] = \"-\"\n",
    "        print(\"Agua\")\n",
    "    return tablero\n",
    "\n",
    "# Este código pregunta al jugador a que coordenadas quiere disparar"
   ]
  },
  {
   "cell_type": "code",
   "execution_count": 6,
   "metadata": {},
   "outputs": [],
   "source": [
    "# FUNCIÓN \"DISPARAR ALEATORIO\" PARA MÁQUINA\n",
    "\n",
    "def diparar_aleatorio(tablero):\n",
    "    x = random.randint(0, len(tablero) - 1)\n",
    "    y = random.randint(0, len(tablero[0]) - 1)\n",
    "    if tablero[x][y] == \"O\":\n",
    "        tablero[x][y] = \"X\"\n",
    "        print(f\"La máquina ha disparado a la coordenada ({x}, {y}) y le ha dado a uno de tus barcos\")\n",
    "    elif tablero[x][y] == \"X\":\n",
    "        print(f\"La máquina ha disparado a la corrdenada ({x}, {y}) y ya había disparado ahí anteriormente, ¡que suerte!\")\n",
    "    else:\n",
    "        tablero[x][y] = \"-\"\n",
    "        print(f\"Estas de enhorabuena, la máquina ha disparado a la corrdenada ({x}, {y}) y ha dado en el agua.\")\n",
    "    return tablero\n",
    "\n",
    "# Este código genera disparos de manera aleatoria para cuando sea el turno de la máquina"
   ]
  }
 ],
 "metadata": {
  "kernelspec": {
   "display_name": "Python 3",
   "language": "python",
   "name": "python3"
  },
  "language_info": {
   "codemirror_mode": {
    "name": "ipython",
    "version": 3
   },
   "file_extension": ".py",
   "mimetype": "text/x-python",
   "name": "python",
   "nbconvert_exporter": "python",
   "pygments_lexer": "ipython3",
   "version": "3.10.11"
  }
 },
 "nbformat": 4,
 "nbformat_minor": 2
}
