{
 "cells": [
  {
   "cell_type": "code",
   "execution_count": null,
   "metadata": {},
   "outputs": [],
   "source": [
    "def disparar(tablero):\n",
    "    turno = random.choice([\"Jugador\",\"Maquina\"])\n",
    "    if turno == \"Jugador\":\n",
    "        print(f\"Es tu turno {jugador}\")\n",
    "        print(tablero)\n",
    "        lista_input = [\"0\",\"1\",\"2\",\"3\",\"4\",\"5\",\"6\",\"7\",\"8\",\"9\"]\n",
    "        x = input(\"Introduce el número de fila del 0 al 9 para disparar:\")\n",
    "        y = input(\"Introduce el número de columna del 0 al 9 para disparar:\")\n",
    "        if x in lista_input and y in lista_input:\n",
    "            if tablero[x][y] == \"O\":\n",
    "                tablero[x][y] = \"X\"\n",
    "                print(\"Tocado\")\n",
    "                turno = \"Jugador\"\n",
    "            elif tablero[x][y] == \"X\":\n",
    "                print(\"Ya disparaste a esta coordenada anteriormente\")\n",
    "                turno = \"Maquina\"\n",
    "            else:\n",
    "                tablero[x][y] = \"-\"\n",
    "                print(\"Agua\")\n",
    "                turno = \"Maquina\"\n",
    "    elif turno == \"Maquina\":\n",
    "        print(f\"Es el turno de {maquina}\")\n",
    "        print(tablero)\n",
    "        x = random.randint(0, len(tablero) - 1)\n",
    "        y = random.randint(0, len(tablero[0]) - 1)\n",
    "        if tablero[x][y] == \"O\":\n",
    "            tablero[x][y] = \"X\"\n",
    "            print(f\"La máquina ha disparado a la coordenada ({x}, {y}) y le ha dado a uno de tus barcos\")\n",
    "            turno = \"Maquina\"\n",
    "        elif tablero[x][y] == \"X\":\n",
    "            print(f\"La máquina ha disparado a la corrdenada ({x}, {y}) y ya había disparado ahí anteriormente, ¡que suerte!\")\n",
    "            turno = \"Jugador\"\n",
    "        else:\n",
    "            tablero[x][y] = \"-\"\n",
    "            print(f\"Estas de enhorabuena, la máquina ha disparado a la corrdenada ({x}, {y}) y ha dado en el agua.\")\n",
    "            turno = \"Jugador\"\n",
    "    return tablero"
   ]
  }
 ],
 "metadata": {
  "kernelspec": {
   "display_name": "Python 3",
   "language": "python",
   "name": "python3"
  },
  "language_info": {
   "name": "python",
   "version": "3.10.11"
  }
 },
 "nbformat": 4,
 "nbformat_minor": 2
}
